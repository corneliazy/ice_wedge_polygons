{
 "cells": [
  {
   "cell_type": "markdown",
   "metadata": {},
   "source": [
    "# Cretae training/validation tiles"
   ]
  },
  {
   "cell_type": "markdown",
   "metadata": {},
   "source": [
    "### Transform data from tif to jpeg"
   ]
  },
  {
   "cell_type": "code",
   "execution_count": null,
   "metadata": {},
   "outputs": [],
   "source": [
    "import os, gdal\n",
    "\n",
    "# masks\n",
    "img_tif = '/path/mask.tif'  # input\n",
    "img_jpg = '/path/mask.jpeg' # output\n",
    "gdal.Translate(img_jpg, img_tif, format='JPEG', width=12723, height=1667, scaleParams=[[]])\n",
    "\n",
    "# satellite data\n",
    "img_tif = '/path/sat_image.tif'\n",
    "img_jpg = '/path/sat_image.jpeg'\n",
    "gdal.Translate(img_jpg, img_tif, format='JPEG', width=12723, height=1667, scaleParams=[[]])"
   ]
  },
  {
   "cell_type": "markdown",
   "metadata": {},
   "source": [
    "### Subdivide into tiles"
   ]
  },
  {
   "cell_type": "code",
   "execution_count": null,
   "metadata": {},
   "outputs": [],
   "source": [
    "import os, gdal\n",
    "\n",
    "# input and output file satellite image\n",
    "in_path = '/path/'\n",
    "input_filename = 'sat_image.jpeg'\n",
    "out_path = '/path/'\n",
    "output_filename = 'sat_tiles/samoylov_training_tile_'\n",
    "\n",
    "# input and output file masks\n",
    "in_path = '/path/'\n",
    "input_filename = 'mask.jpeg'\n",
    "out_path = '/path/'\n",
    "output_filename = 'mask_tiles/samoylov_training_tile_'"
   ]
  },
  {
   "cell_type": "code",
   "execution_count": null,
   "metadata": {},
   "outputs": [],
   "source": [
    "# change size of output tiles\n",
    "tile_size_x = 330\n",
    "tile_size_y = 330\n",
    "\n",
    "\n",
    "ds = gdal.Open(in_path + input_filename)\n",
    "band = ds.GetRasterBand(1)\n",
    "xsize = band.XSize\n",
    "ysize = band.YSize\n",
    "xsize, ysize"
   ]
  },
  {
   "cell_type": "code",
   "execution_count": null,
   "metadata": {},
   "outputs": [],
   "source": [
    "for i in range(0, xsize, tile_size_x):\n",
    "    if len(str(i)) == 1:\n",
    "        xname = str(\"0000\"+str(i))\n",
    "    elif len(str(i)) ==2:\n",
    "        xname = str(\"000\"+str(i))\n",
    "    elif len(str(i)) ==3:\n",
    "        xname = str(\"00\"+str(i))\n",
    "    elif len(str(i)) ==4:\n",
    "        xname = str(\"0\"+str(i))\n",
    "    else:\n",
    "        xname = str(i)\n",
    "    for j in range(0, ysize, tile_size_y):\n",
    "        if len(str(j)) == 1:\n",
    "            yname = str(\"0000\"+str(j))\n",
    "        elif len(str(j)) ==2:\n",
    "            yname = str(\"000\"+str(j))\n",
    "        elif len(str(j)) ==3:\n",
    "            yname = str(\"00\"+str(j))\n",
    "        elif len(str(j)) ==4:\n",
    "            yname = str(\"0\"+str(j))\n",
    "        else:\n",
    "            yname = str(j)\n",
    "        \n",
    "        com_string = \"gdal_translate -srcwin \" + str(i)+ \", \" + str(j) + \", \" + str(tile_size_x) + \", \" + str(tile_size_y) + \" \" + str(in_path) + str(input_filename) + \" \" + str(out_path) + str(output_filename) + xname + \"_\" + yname + \".jpeg\"\n",
    "        os.system(com_string)"
   ]
  }
 ],
 "metadata": {
  "kernelspec": {
   "display_name": "Python 3",
   "language": "python",
   "name": "python3"
  },
  "language_info": {
   "codemirror_mode": {
    "name": "ipython",
    "version": 3
   },
   "file_extension": ".py",
   "mimetype": "text/x-python",
   "name": "python",
   "nbconvert_exporter": "python",
   "pygments_lexer": "ipython3",
   "version": "3.8.2"
  }
 },
 "nbformat": 4,
 "nbformat_minor": 4
}
